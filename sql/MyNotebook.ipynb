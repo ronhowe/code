{
    "metadata": {
        "kernelspec": {
            "name": "SQL",
            "display_name": "SQL",
            "language": "sql"
        },
        "language_info": {
            "name": "sql",
            "version": ""
        }
    },
    "nbformat_minor": 2,
    "nbformat": 4,
    "cells": [
        {
            "cell_type": "code",
            "source": [
                "SET NOCOUNT ON; SELECT UPPER(@@SERVERNAME) AS [@@SERVERNAME];"
            ],
            "metadata": {
                "azdata_cell_guid": "96cf97c3-b8ec-4377-8162-ee6c6a6438c8",
                "language": "sql",
                "tags": [
                    "hide_input"
                ]
            },
            "outputs": [],
            "execution_count": null
        }
    ]
}